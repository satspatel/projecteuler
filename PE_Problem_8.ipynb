{
  "nbformat": 4,
  "nbformat_minor": 0,
  "metadata": {
    "colab": {
      "name": "PE Problem 8.ipynb",
      "provenance": []
    },
    "kernelspec": {
      "name": "python3",
      "display_name": "Python 3"
    }
  },
  "cells": [
    {
      "cell_type": "markdown",
      "metadata": {
        "id": "zcA_t48qpttx",
        "colab_type": "text"
      },
      "source": [
        "\n",
        "\n",
        "The four adjacent digits in the 1000-digit number that have the greatest product are 9 × 9 × 8 × 9 = 5832.\n",
        "\n",
        "73167176531330624919225119674426574742355349194934\n",
        "96983520312774506326239578318016984801869478851843\n",
        "85861560789112949495459501737958331952853208805511\n",
        "12540698747158523863050715693290963295227443043557\n",
        "66896648950445244523161731856403098711121722383113\n",
        "62229893423380308135336276614282806444486645238749\n",
        "30358907296290491560440772390713810515859307960866\n",
        "70172427121883998797908792274921901699720888093776\n",
        "65727333001053367881220235421809751254540594752243\n",
        "52584907711670556013604839586446706324415722155397\n",
        "53697817977846174064955149290862569321978468622482\n",
        "83972241375657056057490261407972968652414535100474\n",
        "82166370484403199890008895243450658541227588666881\n",
        "16427171479924442928230863465674813919123162824586\n",
        "17866458359124566529476545682848912883142607690042\n",
        "24219022671055626321111109370544217506941658960408\n",
        "07198403850962455444362981230987879927244284909188\n",
        "84580156166097919133875499200524063689912560717606\n",
        "05886116467109405077541002256983155200055935729725\n",
        "71636269561882670428252483600823257530420752963450\n",
        "\n",
        "Find the thirteen adjacent digits in the 1000-digit number that have the greatest product. What is the value of this product?\n"
      ]
    },
    {
      "cell_type": "markdown",
      "metadata": {
        "id": "FK0-FJ2ppzLm",
        "colab_type": "text"
      },
      "source": [
        "Any string containing a zero will return a zero, so find a zero then the thirteen digits following it.\n",
        "Create disregard the string if it is a zero but restart the search.\n",
        "First create the thous variable to hold the number"
      ]
    },
    {
      "cell_type": "code",
      "metadata": {
        "id": "bnyiI3DOqW2D",
        "colab_type": "code",
        "colab": {}
      },
      "source": [
        "thous = 7316717653133062491922511967442657474235534919493496983520312774506326239578318016984801869478851843858615607891129494954595017379583319528532088055111254069874715852386305071569329096329522744304355766896648950445244523161731856403098711121722383113622298934233803081353362766142828064444866452387493035890729629049156044077239071381051585930796086670172427121883998797908792274921901699720888093776657273330010533678812202354218097512545405947522435258490771167055601360483958644670632441572215539753697817977846174064955149290862569321978468622482839722413756570560574902614079729686524145351004748216637048440319989000889524345065854122758866688116427171479924442928230863465674813919123162824586178664583591245665294765456828489128831426076900422421902267105562632111110937054421750694165896040807198403850962455444362981230987879927244284909188845801561660979191338754992005240636899125607176060588611646710940507754100225698315520005593572972571636269561882670428252483600823257530420752963450"
      ],
      "execution_count": 0,
      "outputs": []
    },
    {
      "cell_type": "code",
      "metadata": {
        "id": "s5fwSYBnqiHz",
        "colab_type": "code",
        "outputId": "c3d2d739-1121-46e6-cbb4-dd82deb0266f",
        "colab": {
          "base_uri": "https://localhost:8080/",
          "height": 34
        }
      },
      "source": [
        "th = str(thous)\n",
        "len(th)\n",
        "th.count('0')"
      ],
      "execution_count": 3,
      "outputs": [
        {
          "output_type": "execute_result",
          "data": {
            "text/plain": [
              "97"
            ]
          },
          "metadata": {
            "tags": []
          },
          "execution_count": 3
        }
      ]
    },
    {
      "cell_type": "markdown",
      "metadata": {
        "id": "CNLQ0e7Eq2w8",
        "colab_type": "text"
      },
      "source": [
        "Now lets find the zeros"
      ]
    },
    {
      "cell_type": "code",
      "metadata": {
        "id": "cz8MWOwJqlDk",
        "colab_type": "code",
        "outputId": "33faa36e-207c-46f1-f946-9785a7fed19a",
        "colab": {
          "base_uri": "https://localhost:8080/",
          "height": 54
        }
      },
      "source": [
        "start = 0\n",
        "loc =[]\n",
        "for i in range(97):\n",
        "  s = th.find('0',start,1001)\n",
        "  start = s+1\n",
        "  loc.append(s)\n",
        "print(loc)"
      ],
      "execution_count": 4,
      "outputs": [
        {
          "output_type": "stream",
          "text": [
            "[13, 57, 65, 79, 86, 107, 124, 142, 145, 154, 170, 172, 181, 194, 210, 230, 232, 263, 265, 283, 301, 306, 313, 319, 322, 328, 334, 342, 346, 351, 371, 383, 390, 394, 408, 409, 411, 422, 430, 440, 456, 463, 467, 471, 483, 517, 528, 564, 567, 572, 577, 595, 596, 607, 612, 619, 620, 621, 631, 672, 742, 746, 747, 755, 761, 774, 778, 786, 796, 798, 800, 806, 810, 828, 845, 854, 861, 877, 878, 882, 893, 898, 900, 912, 915, 917, 923, 924, 936, 937, 938, 966, 977, 978, 987, 990, 999]\n"
          ],
          "name": "stdout"
        }
      ]
    },
    {
      "cell_type": "markdown",
      "metadata": {
        "id": "GdR1bnvsrG27",
        "colab_type": "text"
      },
      "source": [
        "We can split the string based on the zeroes?"
      ]
    },
    {
      "cell_type": "code",
      "metadata": {
        "id": "wFVn9Jw5uAAH",
        "colab_type": "code",
        "colab": {}
      },
      "source": [
        "sp_th = th.split('0')"
      ],
      "execution_count": 0,
      "outputs": []
    },
    {
      "cell_type": "markdown",
      "metadata": {
        "id": "6al9q1tQu9tQ",
        "colab_type": "text"
      },
      "source": [
        "That worked, and gave us everything without a 0.\n",
        "So now we get rid of any gaps that are less than 13 characters long and append them to a new list called 'test'"
      ]
    },
    {
      "cell_type": "code",
      "metadata": {
        "id": "f1gwEKFeuFCC",
        "colab_type": "code",
        "colab": {}
      },
      "source": [
        "test = []\n",
        "for x in sp_th:\n",
        "  if len(x) >= 13:\n",
        "    test.append(x)"
      ],
      "execution_count": 0,
      "outputs": []
    },
    {
      "cell_type": "markdown",
      "metadata": {
        "id": "vY43SFyCvRnX",
        "colab_type": "text"
      },
      "source": [
        "So now we need to figure out how to create a multiple of lists of 13 digits from those that are greater than 13 digits..."
      ]
    },
    {
      "cell_type": "code",
      "metadata": {
        "id": "L6pWqCeHuoBe",
        "colab_type": "code",
        "colab": {}
      },
      "source": [
        "test_1 = []\n",
        "for x in test:\n",
        "  e = ''                    # initialise an empty variable\n",
        "  if len(x) == 13:          # if the length is 13 then just add it to the new list\n",
        "    test_1.append(x)\n",
        "  else:                     # if the length is greater than 13 then\n",
        "    for i in range(13):     # iterate over the first 13 characters (i.e. 0 to 12 stop at 13)\n",
        "      e +=x[i]              # add the letter/digit to a new string\n",
        "    test_1.append(e)        # append this new string to the test_1 string\n"
      ],
      "execution_count": 0,
      "outputs": []
    },
    {
      "cell_type": "markdown",
      "metadata": {
        "id": "0vfYlhS1BABr",
        "colab_type": "text"
      },
      "source": [
        "The problem with the else is that the digits beyond the thirteenth are missed.\n",
        "\n",
        "So need to amend that loop, first move the creattion of empty e variable to straight after the else.\n",
        "\n",
        "So we can do it by appending"
      ]
    },
    {
      "cell_type": "code",
      "metadata": {
        "id": "NmfcSrRR84M4",
        "colab_type": "code",
        "colab": {}
      },
      "source": [
        "x = '73167176531330624919225119674' # 29 characters\n",
        "t_l =[]\n",
        "b = 0\n",
        "for a in range(0, len(x)):\n",
        "  if a > (len(x)-13):\n",
        "    break\n",
        "  print('-------')\n",
        "  e = ''\n",
        "  for i in range(13):\n",
        "    print(str(a+i))\n",
        "    e +=x[a+i]\n",
        "  t_l.append(e)\n",
        "print('==========')\n",
        "print(b)"
      ],
      "execution_count": 0,
      "outputs": []
    },
    {
      "cell_type": "markdown",
      "metadata": {
        "id": "Ea7z8PsGu5Rk",
        "colab_type": "text"
      },
      "source": [
        "By using the list trimming funtions using [:] type language we might be able to strip it.\n",
        "So:\n",
        "- get the math of how long a string is,\n",
        "- find out how many 13's it can contain (this will be string length - 13) i.e. 14 will contain two, 20 will contain 7\n",
        "- slice accordingly\n",
        "\n",
        "- a[start:end] # items start through end-1\n",
        "- a[start:]    # items start through the rest of the array\n",
        "- a[:end]      # items from the beginning through end-1"
      ]
    },
    {
      "cell_type": "code",
      "metadata": {
        "id": "tbhL3O6Lx4ho",
        "colab_type": "code",
        "colab": {}
      },
      "source": [
        "x = '73167176531330624919225119674' # 29 characters\n",
        "t_l =[]\n",
        "\n",
        "for a in range(len(x)): # find the length of the string\n",
        "  if a > 12:\n",
        "    break\n",
        "  e = x[a:(a+13)]\n",
        "  print(str(len(e)) + \" \" + e)"
      ],
      "execution_count": 0,
      "outputs": []
    },
    {
      "cell_type": "markdown",
      "metadata": {
        "id": "peRXUet7BsKD",
        "colab_type": "text"
      },
      "source": [
        "The list approach is much tidier!!"
      ]
    },
    {
      "cell_type": "code",
      "metadata": {
        "id": "GTkbIIQzCJk7",
        "colab_type": "code",
        "colab": {}
      },
      "source": [
        "test_1 = []\n",
        "for x in test:\n",
        "  e = ''                    # initialise an empty variable\n",
        "  if len(x) == 13:          # if the length is 13 then just add it to the new list\n",
        "    test_1.append(x)\n",
        "    print(e)\n",
        "  else:                     # if the length is greater than 13 then\n",
        "    for a in range(len(x)): # find the length of the string\n",
        "      e = ''\n",
        "      if len(x) - a < 13:\n",
        "        break\n",
        "      e = x[a:(a+13)]\n",
        "      test_1.append(e)\n",
        "      print(str(len(e)) + \" \" + e)"
      ],
      "execution_count": 0,
      "outputs": []
    },
    {
      "cell_type": "code",
      "metadata": {
        "id": "AV1JcQtuCWyX",
        "colab_type": "code",
        "colab": {}
      },
      "source": [
        "test_1"
      ],
      "execution_count": 0,
      "outputs": []
    },
    {
      "cell_type": "code",
      "metadata": {
        "id": "wpwUTumDCX4z",
        "colab_type": "code",
        "colab": {
          "base_uri": "https://localhost:8080/",
          "height": 34
        },
        "outputId": "831204d3-92a6-4dbf-eca0-0189d0971abc"
      },
      "source": [
        "max_sum = 0\n",
        "for x in test_1:\n",
        "#  print(x)\n",
        "  tot = 1\n",
        "  for a in x:\n",
        " #   print(a)\n",
        "    tot *= int(a) \n",
        "  if tot > max_sum:\n",
        "    max_sum = tot\n",
        "print(max_sum)"
      ],
      "execution_count": 69,
      "outputs": [
        {
          "output_type": "stream",
          "text": [
            "23514624000\n"
          ],
          "name": "stdout"
        }
      ]
    }
  ]
}